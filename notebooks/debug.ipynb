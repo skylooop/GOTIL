{
 "cells": [
  {
   "cell_type": "markdown",
   "metadata": {},
   "source": [
    "<h2 align=\"center\"> <font color='violet'>Optimal Transport with marginals</font></h2>"
   ]
  },
  {
   "cell_type": "code",
   "execution_count": 26,
   "metadata": {},
   "outputs": [],
   "source": [
    "import equinox as eqx\n",
    "import jax\n",
    "import jax.numpy as jnp\n",
    "import equinox.nn as nn\n",
    "\n",
    "class Test(eqx.Module):\n",
    "    mlp: eqx.Module\n",
    "    \n",
    "    def __init__(self, key):\n",
    "        self.mlp = nn.MLP(2, 2, 2, 2, key=key)\n",
    "        \n",
    "    def __call__(self, x, y, z):\n",
    "        s1 = self.mlp(x)\n",
    "        s2 = self.mlp(y)\n",
    "        s3 = self.mlp(z)\n",
    "        return jax.numpy.multiply(s1, s2) * s3\n",
    "    \n",
    "keys = jax.random.split(jax.random.PRNGKey(42), 2)\n",
    "\n",
    "@eqx.filter_vmap\n",
    "def ensemblize(keys):\n",
    "    return Test(keys)\n",
    "\n",
    "ensemble = ensemblize(keys)"
   ]
  },
  {
   "cell_type": "code",
   "execution_count": 27,
   "metadata": {},
   "outputs": [],
   "source": [
    "x = jax.random.normal(key=keys[2], shape=(10, 2))\n",
    "y = jax.random.normal(key=keys[0], shape=(10, 2))\n",
    "z = jax.random.normal(key=keys[1], shape=(10, 2))"
   ]
  },
  {
   "cell_type": "code",
   "execution_count": 28,
   "metadata": {},
   "outputs": [
    {
     "data": {
      "text/plain": [
       "Array([[[-8.8754305e-08, -1.6000947e-01],\n",
       "        [-7.5113006e-05, -1.4488317e-01],\n",
       "        [-8.8754305e-08, -1.6000947e-01],\n",
       "        [-2.3377052e-06, -1.5301797e-01],\n",
       "        [-8.8754305e-08, -1.6000947e-01],\n",
       "        [-8.8754305e-08, -1.6000947e-01],\n",
       "        [-8.8754305e-08, -1.6000947e-01],\n",
       "        [-8.8754305e-08, -1.6000947e-01],\n",
       "        [-8.8754305e-08, -1.6000947e-01],\n",
       "        [-2.6882940e-04, -1.3157992e-01]],\n",
       "\n",
       "       [[ 1.0471903e-01, -1.6631925e-02],\n",
       "        [ 7.6325975e-02, -1.1437074e-03],\n",
       "        [ 5.6510419e-02, -1.4339470e-05],\n",
       "        [ 8.2739942e-02, -2.5751864e-04],\n",
       "        [ 9.6867792e-02, -5.2248640e-03],\n",
       "        [ 1.2098087e-01, -4.9242605e-03],\n",
       "        [ 1.2619162e-01, -6.6512823e-03],\n",
       "        [ 1.2494019e-01, -1.2110239e-02],\n",
       "        [ 8.1857964e-02, -2.4900120e-04],\n",
       "        [ 9.8819651e-02, -2.2044883e-03]]], dtype=float32)"
      ]
     },
     "execution_count": 28,
     "metadata": {},
     "output_type": "execute_result"
    }
   ],
   "source": [
    "@eqx.filter_vmap(in_axes=dict(model=eqx.if_array(0), x=None, y=None, z=None))\n",
    "def evaluate_ensemble(model, x, y, z):\n",
    "    return jax.vmap(model)(x,y,z)\n",
    "evaluate_ensemble(ensemble,x ,y,z)"
   ]
  },
  {
   "cell_type": "code",
   "execution_count": 29,
   "metadata": {},
   "outputs": [],
   "source": [
    "q1, q2 = evaluate_ensemble(ensemble,x ,y,z)"
   ]
  },
  {
   "cell_type": "code",
   "execution_count": 7,
   "metadata": {},
   "outputs": [
    {
     "ename": "ValueError",
     "evalue": "vmap got inconsistent sizes for array axes to be mapped:\n  * most axes (6 of them) had size 2, e.g. axis 0 of argument _dynamic_args[0].layers[0].weight of type float32[2,2,2];\n  * one axis had size 10: axis 0 of argument _dynamic_args[1] of type float32[10,2]",
     "output_type": "error",
     "traceback": [
      "\u001b[0;31m---------------------------------------------------------------------------\u001b[0m",
      "\u001b[0;31mValueError\u001b[0m                                Traceback (most recent call last)",
      "\u001b[1;32m/home/m_bobrin/HIQL/notebooks/debug.ipynb Cell 3\u001b[0m line \u001b[0;36m6\n\u001b[1;32m      <a href='vscode-notebook-cell://ssh-remote%2Bsk/home/m_bobrin/HIQL/notebooks/debug.ipynb#W2sdnNjb2RlLXJlbW90ZQ%3D%3D?line=2'>3</a>\u001b[0m \u001b[39m@eqx\u001b[39m\u001b[39m.\u001b[39mfilter_vmap(in_axes\u001b[39m=\u001b[39m(eqx\u001b[39m.\u001b[39mif_array(\u001b[39m0\u001b[39m)))\n\u001b[1;32m      <a href='vscode-notebook-cell://ssh-remote%2Bsk/home/m_bobrin/HIQL/notebooks/debug.ipynb#W2sdnNjb2RlLXJlbW90ZQ%3D%3D?line=3'>4</a>\u001b[0m \u001b[39mdef\u001b[39;00m \u001b[39meval\u001b[39m(ens, x):\n\u001b[1;32m      <a href='vscode-notebook-cell://ssh-remote%2Bsk/home/m_bobrin/HIQL/notebooks/debug.ipynb#W2sdnNjb2RlLXJlbW90ZQ%3D%3D?line=4'>5</a>\u001b[0m     \u001b[39mreturn\u001b[39;00m ens(x)\n\u001b[0;32m----> <a href='vscode-notebook-cell://ssh-remote%2Bsk/home/m_bobrin/HIQL/notebooks/debug.ipynb#W2sdnNjb2RlLXJlbW90ZQ%3D%3D?line=5'>6</a>\u001b[0m \u001b[39meval\u001b[39;49m(ensemble, x)\n",
      "File \u001b[0;32m~/anaconda3/envs/icvf/lib/python3.9/site-packages/equinox/_vmap_pmap.py:219\u001b[0m, in \u001b[0;36m_VmapWrapper.__call__\u001b[0;34m(***failed resolving arguments***)\u001b[0m\n\u001b[1;32m    214\u001b[0m         \u001b[39mraise\u001b[39;00m \u001b[39mValueError\u001b[39;00m(\n\u001b[1;32m    215\u001b[0m             \u001b[39m\"\u001b[39m\u001b[39mCannot resolve batch dimension. Non-`None` `out_axes` requires \u001b[39m\u001b[39m\"\u001b[39m\n\u001b[1;32m    216\u001b[0m             \u001b[39m\"\u001b[39m\u001b[39meither `in_axes` or `axis_size` to be not `None`.\u001b[39m\u001b[39m\"\u001b[39m\n\u001b[1;32m    217\u001b[0m         )\n\u001b[1;32m    218\u001b[0m \u001b[39melse\u001b[39;00m:\n\u001b[0;32m--> 219\u001b[0m     vmapd, static \u001b[39m=\u001b[39m jax\u001b[39m.\u001b[39;49mvmap(\n\u001b[1;32m    220\u001b[0m         _fun_wrapper,\n\u001b[1;32m    221\u001b[0m         in_axes\u001b[39m=\u001b[39;49m(in_axes,),\n\u001b[1;32m    222\u001b[0m         out_axes\u001b[39m=\u001b[39;49m(\u001b[39m0\u001b[39;49m, \u001b[39mNone\u001b[39;49;00m),\n\u001b[1;32m    223\u001b[0m         axis_name\u001b[39m=\u001b[39;49m\u001b[39mself\u001b[39;49m\u001b[39m.\u001b[39;49m_axis_name,\n\u001b[1;32m    224\u001b[0m         axis_size\u001b[39m=\u001b[39;49m\u001b[39mself\u001b[39;49m\u001b[39m.\u001b[39;49m_axis_size,\n\u001b[1;32m    225\u001b[0m         \u001b[39m*\u001b[39;49m\u001b[39m*\u001b[39;49m\u001b[39mself\u001b[39;49m\u001b[39m.\u001b[39;49m_vmapkwargs,\n\u001b[1;32m    226\u001b[0m     )(dynamic_args)\n\u001b[1;32m    227\u001b[0m nonvmapd, out_axes \u001b[39m=\u001b[39m static\u001b[39m.\u001b[39mvalue\n\u001b[1;32m    229\u001b[0m \u001b[39massert\u001b[39;00m jtu\u001b[39m.\u001b[39mtree_structure(vmapd) \u001b[39m==\u001b[39m jtu\u001b[39m.\u001b[39mtree_structure(out_axes)\n",
      "    \u001b[0;31m[... skipping hidden 2 frame]\u001b[0m\n",
      "File \u001b[0;32m~/anaconda3/envs/icvf/lib/python3.9/site-packages/jax/_src/api.py:1340\u001b[0m, in \u001b[0;36m_mapped_axis_size\u001b[0;34m(fn, tree, vals, dims, name)\u001b[0m\n\u001b[1;32m   1338\u001b[0m   \u001b[39melse\u001b[39;00m:\n\u001b[1;32m   1339\u001b[0m     msg\u001b[39m.\u001b[39mappend(\u001b[39mf\u001b[39m\u001b[39m\"\u001b[39m\u001b[39m  * some axes (\u001b[39m\u001b[39m{\u001b[39;00mct\u001b[39m}\u001b[39;00m\u001b[39m of them) had size \u001b[39m\u001b[39m{\u001b[39;00msz\u001b[39m}\u001b[39;00m\u001b[39m, e.g. axis \u001b[39m\u001b[39m{\u001b[39;00max\u001b[39m}\u001b[39;00m\u001b[39m of \u001b[39m\u001b[39m{\u001b[39;00mex\u001b[39m}\u001b[39;00m\u001b[39m;\u001b[39m\u001b[39m\\n\u001b[39;00m\u001b[39m\"\u001b[39m)\n\u001b[0;32m-> 1340\u001b[0m \u001b[39mraise\u001b[39;00m \u001b[39mValueError\u001b[39;00m(\u001b[39m'\u001b[39m\u001b[39m'\u001b[39m\u001b[39m.\u001b[39mjoin(msg)[:\u001b[39m-\u001b[39m\u001b[39m2\u001b[39m])\n",
      "\u001b[0;31mValueError\u001b[0m: vmap got inconsistent sizes for array axes to be mapped:\n  * most axes (6 of them) had size 2, e.g. axis 0 of argument _dynamic_args[0].layers[0].weight of type float32[2,2,2];\n  * one axis had size 10: axis 0 of argument _dynamic_args[1] of type float32[10,2]"
     ]
    }
   ],
   "source": [
    "x = jax.random.normal(key=keys[2], shape=(10, 2))\n",
    "\n",
    "@eqx.filter_vmap(in_axes=(eqx.if_array(0), 0))\n",
    "def eval(ens, x):\n",
    "    return ens(x)\n",
    "eval(ensemble, x)"
   ]
  },
  {
   "cell_type": "code",
   "execution_count": 3,
   "metadata": {},
   "outputs": [],
   "source": [
    "import warnings\n",
    "warnings.filterwarnings('ignore')\n",
    "import os\n",
    "os.environ[\"CUDA_VISIBLE_DEVICES\"]=\"0\"\n",
    "\n",
    "import jax\n",
    "import jax.numpy as jnp\n",
    "import equinox as eqx\n",
    "import equinox.nn as nn\n",
    "import optax\n",
    "\n",
    "import ott\n",
    "from ott.solvers.linear import sinkhorn\n",
    "from ott.geometry import pointcloud\n",
    "\n",
    "import matplotlib.pyplot as plt\n",
    "import pprint\n"
   ]
  },
  {
   "cell_type": "code",
   "execution_count": 4,
   "metadata": {},
   "outputs": [],
   "source": [
    "rngs = jax.random.PRNGKey(42)\n",
    "key1, key2 = jax.random.split(rngs, 2)\n",
    "x = jax.random.normal(key1, (4, 2))\n",
    "y =  jax.random.normal(key2, (5, 2))"
   ]
  },
  {
   "cell_type": "code",
   "execution_count": 5,
   "metadata": {},
   "outputs": [
    {
     "data": {
      "image/png": "[encoded data removed]",
      "text/plain": [
       "<Figure size 800x600 with 1 Axes>"
      ]
     },
     "metadata": {},
     "output_type": "display_data"
    }
   ],
   "source": [
    "x_args = {\n",
    "    \"s\": 80,\n",
    "    \"label\": r\"source $x$\",\n",
    "    \"marker\": \"s\",\n",
    "    \"edgecolor\": \"k\",\n",
    "    \"alpha\": 0.75,\n",
    "}\n",
    "y_args = {\"s\": 80, \"label\": r\"target $y$\", \"edgecolor\": \"k\", \"alpha\": 0.75}\n",
    "\n",
    "fig = plt.figure(figsize=(8, 6))\n",
    "plt.scatter(x[:, 0], x[:, 1], **x_args)\n",
    "plt.scatter(y[:, 0], y[:, 1], **y_args)\n",
    "plt.legend()\n",
    "fig.show()"
   ]
  },
  {
   "cell_type": "code",
   "execution_count": 12,
   "metadata": {},
   "outputs": [],
   "source": [
    "def compute_ot(x, y):\n",
    "    geom = pointcloud.PointCloud(x, y, epsilon=1)\n",
    "    prob = ott.problems.linear.linear_problem.LinearProblem(geom)\n",
    "    ot = jax.jit(sinkhorn.Sinkhorn())(prob)\n",
    "    return ot"
   ]
  },
  {
   "cell_type": "code",
   "execution_count": 13,
   "metadata": {},
   "outputs": [],
   "source": [
    "ot_map = compute_ot(x, y)"
   ]
  },
  {
   "cell_type": "code",
   "execution_count": 14,
   "metadata": {},
   "outputs": [
    {
     "data": {
      "text/plain": [
       "<matplotlib.colorbar.Colorbar at 0x7f8ac85c8dc0>"
      ]
     },
     "execution_count": 14,
     "metadata": {},
     "output_type": "execute_result"
    },
    {
     "data": {
      "image/png": "[encoded data removed]",
      "text/plain": [
       "<Figure size 640x480 with 2 Axes>"
      ]
     },
     "metadata": {},
     "output_type": "display_data"
    }
   ],
   "source": [
    "plt.imshow(ot_map.matrix)\n",
    "plt.colorbar()"
   ]
  },
  {
   "cell_type": "code",
   "execution_count": null,
   "metadata": {},
   "outputs": [],
   "source": []
  },
  {
   "cell_type": "code",
   "execution_count": null,
   "metadata": {},
   "outputs": [],
   "source": []
  },
  {
   "cell_type": "code",
   "execution_count": null,
   "metadata": {},
   "outputs": [],
   "source": []
  },
  {
   "cell_type": "code",
   "execution_count": null,
   "metadata": {},
   "outputs": [],
   "source": []
  }
 ],
 "metadata": {
  "kernelspec": {
   "display_name": "icvf",
   "language": "python",
   "name": "python3"
  },
  "language_info": {
   "codemirror_mode": {
    "name": "ipython",
    "version": 3
   },
   "file_extension": ".py",
   "mimetype": "text/x-python",
   "name": "python",
   "nbconvert_exporter": "python",
   "pygments_lexer": "ipython3",
   "version": "3.9.16"
  },
  "orig_nbformat": 4
 },
 "nbformat": 4,
 "nbformat_minor": 2
}
