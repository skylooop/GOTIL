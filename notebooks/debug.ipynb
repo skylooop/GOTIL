{
 "cells": [
  {
   "cell_type": "code",
   "execution_count": 1,
   "metadata": {},
   "outputs": [],
   "source": [
    "import jax\n",
    "import sys\n",
    "sys.path.append(\"..\")\n",
    "from jaxrl_m.typing import *\n",
    "from jaxrl_m.networks import MLP, get_latent, default_init, ensemblize\n",
    "import equinox as eqx\n",
    "import equinox.nn as nn\n",
    "import functools"
   ]
  },
  {
   "cell_type": "code",
   "execution_count": 2,
   "metadata": {},
   "outputs": [],
   "source": [
    "import warnings\n",
    "warnings.filterwarnings('ignore')\n",
    "import os\n",
    "os.environ[\"CUDA_VISIBLE_DEVICES\"]=\"0\"\n",
    "\n",
    "import jax\n",
    "import jax.numpy as jnp\n",
    "import equinox as eqx\n",
    "import equinox.nn as nn\n",
    "import optax\n",
    "\n",
    "import ott\n",
    "from ott.solvers.linear import sinkhorn\n",
    "from ott.geometry import pointcloud\n",
    "\n",
    "import matplotlib.pyplot as plt\n",
    "import pprint\n"
   ]
  },
  {
   "cell_type": "code",
   "execution_count": 10,
   "metadata": {},
   "outputs": [],
   "source": [
    "from src.agents.iql_equinox import GaussianIntentPolicy\n",
    "\n",
    "key = jax.random.PRNGKey(42)\n",
    "policy = GaussianIntentPolicy(key=key, state_dim=29, intent_dim=256, hidden_dims=[10, 10])"
   ]
  },
  {
   "cell_type": "code",
   "execution_count": 11,
   "metadata": {},
   "outputs": [],
   "source": [
    "dist = policy(jax.random.normal(key=key, shape=(29, )))\n"
   ]
  },
  {
   "cell_type": "code",
   "execution_count": 14,
   "metadata": {},
   "outputs": [
    {
     "data": {
      "text/plain": [
       "Array([ 0.79226196, -0.8326498 , -0.27477828, -1.4187186 ,  1.3861606 ,\n",
       "        0.55840826,  0.44638506,  0.8171458 ,  0.96836233,  1.1152549 ,\n",
       "        1.3663728 , -0.48084542,  0.8476486 ,  1.5169784 ,  1.0242839 ,\n",
       "        0.35271466, -0.363487  , -0.8979553 , -0.9768782 ,  1.6541424 ,\n",
       "       -0.65059   ,  0.02092186,  2.060648  ,  0.3458615 ,  2.1372218 ,\n",
       "       -1.6125547 , -0.4665095 ,  0.14492488, -1.3469902 , -0.9702675 ,\n",
       "        0.24499813, -0.45002604, -1.9654341 ,  0.02293885, -1.9163194 ,\n",
       "        2.1501043 , -1.2322844 ,  0.33090952,  0.47050998, -0.22664222,\n",
       "       -0.42976975,  0.9717772 ,  0.29004234,  1.7527819 ,  0.69897115,\n",
       "       -0.22178045, -2.2419178 ,  0.6496175 , -0.05749149,  0.568928  ,\n",
       "        2.0610597 , -0.04300588,  0.39271545, -0.02689009, -0.8507596 ,\n",
       "        0.972741  , -1.153822  ,  2.06174   , -0.9770966 , -0.5826562 ,\n",
       "       -0.30460912, -1.170865  ,  1.7069314 , -1.4290427 , -0.5017443 ,\n",
       "       -0.5121806 ,  0.53079665, -1.4503367 , -0.6276568 ,  1.3080311 ,\n",
       "        0.13304925,  0.07800898,  0.15775548,  1.2779611 ,  1.2803862 ,\n",
       "       -0.50317365, -0.25692073, -0.65859735,  0.00357695,  0.09102358,\n",
       "        0.94312596,  1.2828246 , -1.664169  ,  0.5398304 , -0.02921023,\n",
       "        1.2246761 , -0.03016677, -0.22107714, -0.6839182 ,  0.21154007,\n",
       "        2.1501336 , -0.8346598 , -1.3353617 , -1.9186934 ,  0.00607717,\n",
       "       -1.6730883 ,  0.75814086, -1.1973445 , -0.258746  ,  0.8474275 ,\n",
       "        0.5040324 , -1.8052346 ,  1.7077047 , -0.28836703,  1.0184401 ,\n",
       "        0.23995078,  0.74033475,  0.5768664 ,  0.6870038 , -0.5688617 ,\n",
       "        2.1831357 , -1.6181726 ,  1.1652331 ,  0.0993297 ,  1.1746025 ,\n",
       "        0.6152194 ,  1.0305418 ,  0.58013207, -1.3074915 ,  0.8327799 ,\n",
       "        0.29885584,  1.1507208 ,  1.005821  , -0.3894921 ,  0.23706014,\n",
       "        0.96172214,  1.4993254 , -0.90406096,  0.5935882 ,  0.26274586,\n",
       "       -0.60211176,  0.45617676,  1.7310686 , -1.7684995 ,  0.25968808,\n",
       "        2.6355388 ,  0.13351628,  1.7853835 ,  1.1607553 , -1.9130756 ,\n",
       "       -0.5444432 ,  0.02594393, -0.34781486, -1.2459276 , -1.2716973 ,\n",
       "       -0.5424315 , -2.0133388 , -0.8217183 , -0.24080992, -0.19001813,\n",
       "       -0.91063386, -2.489724  ,  0.43447107, -1.5650976 , -1.1627431 ,\n",
       "        0.13910109, -1.3303089 , -1.3205575 ,  0.6940354 ,  0.6441669 ,\n",
       "       -1.871156  , -0.66134506, -0.8392546 , -0.8319647 , -0.00708756,\n",
       "       -0.5641404 ,  0.90780044,  0.4076572 , -0.14424911,  0.41215026,\n",
       "       -1.1199522 ,  1.0665017 ,  0.43297464,  1.3264476 ,  0.82030255,\n",
       "        1.3538142 ,  0.5746312 , -0.72063255,  0.7253442 , -0.61001766,\n",
       "       -0.29652733, -0.5080564 ,  0.26117614,  1.2888471 ,  0.89494413,\n",
       "       -0.32261238,  0.77566683,  0.5141107 , -0.12822483,  2.1214805 ,\n",
       "        0.48869878, -1.3406081 ,  0.42335764,  0.38372582,  0.539969  ,\n",
       "       -0.05838176,  2.4567792 , -0.3534533 ,  0.9717859 ,  0.8860656 ,\n",
       "       -0.14221805,  0.42575008,  0.52372885, -0.70018834,  0.8940706 ,\n",
       "        1.5485424 , -1.8590254 , -0.47306123,  0.18886593, -1.6030085 ,\n",
       "       -0.90629345, -1.4683869 ,  3.3691573 ,  0.01720056, -1.4473758 ,\n",
       "        1.7179418 , -1.4892824 ,  1.0805078 ,  0.02872556,  1.9090211 ,\n",
       "        0.54339516, -0.70094055,  1.2209779 , -0.6023962 ,  0.2924231 ,\n",
       "        0.3026356 ,  1.4146767 , -0.7994798 ,  0.6729911 ,  1.5391673 ,\n",
       "        0.88451135, -0.6789558 , -1.6150506 ,  0.75467724, -0.54426485,\n",
       "        0.6273308 , -0.9615562 ,  1.5782764 ,  1.2129489 ,  0.2518953 ,\n",
       "       -0.7344961 ,  1.2351482 , -0.29746658,  1.3452532 , -0.98033273,\n",
       "       -1.1382746 , -1.1241659 , -1.6215225 , -0.22860324, -0.8894824 ,\n",
       "        0.18915626, -0.88246495, -0.6889074 ,  0.14008799, -0.4788509 ,\n",
       "       -0.31636596], dtype=float32)"
      ]
     },
     "execution_count": 14,
     "metadata": {},
     "output_type": "execute_result"
    }
   ],
   "source": [
    "import jax\n",
    "\n",
    "sample_key, key = jax.random.split(key, 2)\n",
    "dist.sample_and_log_prob(seed=sample_key)[0]"
   ]
  },
  {
   "cell_type": "code",
   "execution_count": 4,
   "metadata": {},
   "outputs": [],
   "source": [
    "loaded_phi_net = eqx.tree_deserialise_leaves(\"/home/m_bobrin/GOTIL/icvf_phi_300k_umaze.eqx\", phi_net)"
   ]
  },
  {
   "cell_type": "code",
   "execution_count": null,
   "metadata": {},
   "outputs": [],
   "source": []
  },
  {
   "cell_type": "code",
   "execution_count": 6,
   "metadata": {},
   "outputs": [],
   "source": [
    "@eqx.filter_vmap\n",
    "def ensemblize(keys):\n",
    "    return MultilinearVF_EQX(key=keys, state_dim=29, hidden_dims=[256, 256], pretrained_phi=loaded_phi_net)\n",
    "\n",
    "ensemble_net = ensemblize(jax.random.split(key1, 2))"
   ]
  },
  {
   "cell_type": "code",
   "execution_count": null,
   "metadata": {},
   "outputs": [],
   "source": []
  }
 ],
 "metadata": {
  "kernelspec": {
   "display_name": "icvf",
   "language": "python",
   "name": "python3"
  },
  "language_info": {
   "codemirror_mode": {
    "name": "ipython",
    "version": 3
   },
   "file_extension": ".py",
   "mimetype": "text/x-python",
   "name": "python",
   "nbconvert_exporter": "python",
   "pygments_lexer": "ipython3",
   "version": "3.9.16"
  },
  "orig_nbformat": 4
 },
 "nbformat": 4,
 "nbformat_minor": 2
}
