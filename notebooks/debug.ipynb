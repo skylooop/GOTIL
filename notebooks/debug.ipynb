{
 "cells": [
  {
   "cell_type": "code",
   "execution_count": 1,
   "metadata": {},
   "outputs": [],
   "source": [
    "import jax\n",
    "import sys\n",
    "sys.path.append(\"..\")\n",
    "from jaxrl_m.typing import *\n",
    "from jaxrl_m.networks import MLP, get_latent, default_init, ensemblize\n",
    "import equinox as eqx\n",
    "import equinox.nn as nn\n",
    "import functools"
   ]
  },
  {
   "cell_type": "code",
   "execution_count": 2,
   "metadata": {},
   "outputs": [],
   "source": [
    "import warnings\n",
    "warnings.filterwarnings('ignore')\n",
    "import os\n",
    "os.environ[\"CUDA_VISIBLE_DEVICES\"]=\"0\"\n",
    "\n",
    "import jax\n",
    "import jax.numpy as jnp\n",
    "import equinox as eqx\n",
    "import equinox.nn as nn\n",
    "import optax\n",
    "\n",
    "import ott\n",
    "from ott.solvers.linear import sinkhorn\n",
    "from ott.geometry import pointcloud\n",
    "\n",
    "import matplotlib.pyplot as plt\n",
    "import pprint\n"
   ]
  },
  {
   "cell_type": "code",
   "execution_count": 3,
   "metadata": {},
   "outputs": [],
   "source": [
    "from src.special_networks import MultilinearVF_EQX\n",
    "rngs = jax.random.PRNGKey(42)\n",
    "key1, key2 = jax.random.split(rngs, 2)\n",
    "import functools\n",
    "hidden_dims=[256, 256]\n",
    "network_cls = functools.partial(nn.MLP, in_size=29, out_size=hidden_dims[-1],\n",
    "                                        width_size=hidden_dims[0], depth=len(hidden_dims),\n",
    "                                        final_activation=jax.nn.relu)\n",
    "\n",
    "phi_net = network_cls(key=key1)"
   ]
  },
  {
   "cell_type": "code",
   "execution_count": 4,
   "metadata": {},
   "outputs": [],
   "source": [
    "loaded_phi_net = eqx.tree_deserialise_leaves(\"/home/m_bobrin/GOTIL/icvf_phi_300k_umaze.eqx\", phi_net)"
   ]
  },
  {
   "cell_type": "code",
   "execution_count": null,
   "metadata": {},
   "outputs": [],
   "source": []
  },
  {
   "cell_type": "code",
   "execution_count": 6,
   "metadata": {},
   "outputs": [],
   "source": [
    "@eqx.filter_vmap\n",
    "def ensemblize(keys):\n",
    "    return MultilinearVF_EQX(key=keys, state_dim=29, hidden_dims=[256, 256], pretrained_phi=loaded_phi_net)\n",
    "\n",
    "ensemble_net = ensemblize(jax.random.split(key1, 2))"
   ]
  },
  {
   "cell_type": "code",
   "execution_count": null,
   "metadata": {},
   "outputs": [],
   "source": []
  }
 ],
 "metadata": {
  "kernelspec": {
   "display_name": "icvf",
   "language": "python",
   "name": "python3"
  },
  "language_info": {
   "codemirror_mode": {
    "name": "ipython",
    "version": 3
   },
   "file_extension": ".py",
   "mimetype": "text/x-python",
   "name": "python",
   "nbconvert_exporter": "python",
   "pygments_lexer": "ipython3",
   "version": "3.9.16"
  },
  "orig_nbformat": 4
 },
 "nbformat": 4,
 "nbformat_minor": 2
}
