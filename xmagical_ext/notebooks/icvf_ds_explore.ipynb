{
 "cells": [
  {
   "cell_type": "code",
   "execution_count": 1,
   "metadata": {},
   "outputs": [
    {
     "name": "stdout",
     "output_type": "stream",
     "text": [
      "Loading chipmunk for Linux (64bit) [/home/m_bobrin/anaconda3/envs/icvf/lib/python3.9/site-packages/pymunk/libchipmunk.so]\n",
      "Gym version: 0.23.0\n"
     ]
    }
   ],
   "source": [
    "import gym\n",
    "import xmagical\n",
    "import warnings\n",
    "from IPython.display import display, clear_output\n",
    "warnings.filterwarnings(\"ignore\")\n",
    "\n",
    "print(f\"Gym version: {gym.__version__}\")"
   ]
  },
  {
   "cell_type": "code",
   "execution_count": 2,
   "metadata": {},
   "outputs": [
    {
     "name": "stdout",
     "output_type": "stream",
     "text": [
      "['observations', 'actions', 'rewards', 'masks', 'states', 'next_observations', 'next_states', 'dones_float']\n",
      "Keys: (170926, 64, 64, 3)\n",
      "(170926, 51)\n",
      "(170926, 3)\n"
     ]
    }
   ],
   "source": [
    "import numpy as np\n",
    "\n",
    "sample_icvf_ds = np.load('../xmagical_replay/gripper_train.npz', mmap_mode='r')\n",
    "print(sample_icvf_ds.files)\n",
    "\n",
    "print(f\"Keys: {sample_icvf_ds['observations'].shape}\")\n",
    "print(sample_icvf_ds['states'].shape)\n",
    "print(sample_icvf_ds['actions'].shape)"
   ]
  },
  {
   "cell_type": "code",
   "execution_count": 4,
   "metadata": {},
   "outputs": [
    {
     "data": {
      "text/plain": [
       "array([ 0.        , -0.60000002,  0.63999999,  0.33141705, -0.31999999,\n",
       "        0.33141705,  0.16      ,  0.33141705,  1.        ,  0.        ,\n",
       "        0.39955252,  0.34819853,  0.33412904,  0.23637977,  0.23637977,\n",
       "        0.23637977,  1.        ,  0.        , -0.60000002,  0.63999999,\n",
       "        0.33141705, -0.31999999,  0.33141705,  0.16      ,  0.33141705,\n",
       "        1.        ,  0.        ,  0.39955252,  0.34819853,  0.33412904,\n",
       "        0.23637977,  0.23637977,  0.23637977,  1.        ,  0.        ,\n",
       "       -0.60000002,  0.63999999,  0.33141705, -0.31999999,  0.33141705,\n",
       "        0.16      ,  0.33141705,  1.        ,  0.        ,  0.39955252,\n",
       "        0.34819853,  0.33412904,  0.23637977,  0.23637977,  0.23637977,\n",
       "        1.        ])"
      ]
     },
     "execution_count": 4,
     "metadata": {},
     "output_type": "execute_result"
    }
   ],
   "source": [
    "sample_icvf_ds['states'][0]"
   ]
  },
  {
   "cell_type": "code",
   "execution_count": 7,
   "metadata": {},
   "outputs": [
    {
     "data": {
      "text/plain": [
       "array([ 0.        , -0.6       , -0.5       ,  0.        ,  0.        ,\n",
       "        0.        ,  0.5       ,  0.        ,  1.        ,  0.        ,\n",
       "        0.276134  ,  0.21213204,  0.276134  ,  0.35355338,  0.35355338,\n",
       "        0.35355338,  1.        ], dtype=float32)"
      ]
     },
     "execution_count": 7,
     "metadata": {},
     "output_type": "execute_result"
    }
   ],
   "source": [
    "xmagical.register_envs()\n",
    "env = gym.make(\"SweepToTop-Gripper-State-Allo-Demo-v0\")\n",
    "env.reset()"
   ]
  },
  {
   "cell_type": "code",
   "execution_count": 12,
   "metadata": {},
   "outputs": [
    {
     "data": {
      "image/png": "[encoded data removed]",
      "text/plain": [
       "<Figure size 640x480 with 1 Axes>"
      ]
     },
     "metadata": {},
     "output_type": "display_data"
    }
   ],
   "source": [
    "import matplotlib.pyplot as plt\n",
    "from gymnasium.utils.save_video import save_video\n",
    "\n",
    "renders = []\n",
    "for i in range(5):\n",
    "    plt.imshow(sample_icvf_ds['observations'][i]) # 64 x 64\n",
    "    renders.append(sample_icvf_ds['observations'][i])\n",
    "    plt.show()\n",
    "    clear_output(wait=True)"
   ]
  },
  {
   "cell_type": "code",
   "execution_count": 17,
   "metadata": {},
   "outputs": [
    {
     "name": "stdout",
     "output_type": "stream",
     "text": [
      "Moviepy - Building video /home/m_bobrin/GOTIL/xmagical_ext/notebooks/test_folder/rl-video-episode-0.mp4.\n",
      "Moviepy - Writing video /home/m_bobrin/GOTIL/xmagical_ext/notebooks/test_folder/rl-video-episode-0.mp4\n",
      "\n"
     ]
    },
    {
     "name": "stderr",
     "output_type": "stream",
     "text": [
      "                                                  "
     ]
    },
    {
     "name": "stdout",
     "output_type": "stream",
     "text": [
      "Moviepy - Done !\n",
      "Moviepy - video ready /home/m_bobrin/GOTIL/xmagical_ext/notebooks/test_folder/rl-video-episode-0.mp4\n"
     ]
    },
    {
     "name": "stderr",
     "output_type": "stream",
     "text": [
      "\r"
     ]
    }
   ],
   "source": [
    "save_video(frames=renders, video_folder=\"test_folder\", fps=5)"
   ]
  },
  {
   "cell_type": "code",
   "execution_count": null,
   "metadata": {},
   "outputs": [],
   "source": []
  }
 ],
 "metadata": {
  "kernelspec": {
   "display_name": "icvf",
   "language": "python",
   "name": "python3"
  },
  "language_info": {
   "codemirror_mode": {
    "name": "ipython",
    "version": 3
   },
   "file_extension": ".py",
   "mimetype": "text/x-python",
   "name": "python",
   "nbconvert_exporter": "python",
   "pygments_lexer": "ipython3",
   "version": "3.9.16"
  }
 },
 "nbformat": 4,
 "nbformat_minor": 2
}
